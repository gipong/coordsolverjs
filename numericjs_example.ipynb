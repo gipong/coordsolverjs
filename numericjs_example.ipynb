{
 "cells": [
  {
   "cell_type": "markdown",
   "metadata": {},
   "source": [
    "# Solving Quadratic Progams in JavaScript"
   ]
  },
  {
   "cell_type": "markdown",
   "metadata": {
    "collapsed": true
   },
   "source": [
    "## Objective function or cost function\n",
    "$x$ is a vector in $\\mathbb{R}^n$,\n",
    "\n",
    "$D$ is an $n \\times n$ symmetric positive definite matrix,\n",
    "\n",
    "$d$ is a constant vector in $\\mathbb{R}^n$ \n",
    "\n",
    "and $c$ is a scalar constant\n",
    "$$ Q(x) = \\frac{1}{2} x^T D x - d^T x + c.$$"
   ]
  },
  {
   "cell_type": "markdown",
   "metadata": {
    "collapsed": true
   },
   "source": [
    "## Linear constraints\n",
    "Here $A$ is an $m_1 \\times n$ matrix with $m_1 \\leq n$ and $B$ is a $m_1 \\times n$ matrix\n",
    "$$ Ax \\geq B$$  "
   ]
  },
  {
   "cell_type": "markdown",
   "metadata": {},
   "source": [
    "## Model\n",
    "We can write the quadratic program (QP) compactly as:\n",
    "\n",
    "$$ \\left\\{ \\begin{array}{l} \\mathrm{minimize}_{x \\in \\mathbb{R}^n}: \\qquad Q(x) = \\frac{1}{2} x^T D x - d^T x + c \\\\ \\mathrm{subject\\; to:} \\qquad Ax \\geq b \\end{array} \\right.$$"
   ]
  },
  {
   "cell_type": "markdown",
   "metadata": {},
   "source": [
    "## Example\n",
    "Consider this problem we try to minimize\n",
    "\n",
    "$$ \\left\\{ \\begin{array}{l} \\mathrm{minimize}_{x \\in \\mathbb{R}^n}: \\qquad Q(x,y) = x^2 + y^2 - xy +3x -2y + 4 \\\\ \\mathrm{subject\\; to:} \\qquad y \\geq 2-x  \\quad, y \\geq -2 \\quad, y \\leq 3 \\end{array} \\right.$$"
   ]
  },
  {
   "cell_type": "markdown",
   "metadata": {},
   "source": [
    "Before using the numeric package, We need to set correct matrix form our objective function \n",
    "\n",
    "$$ \\begin{eqnarray*} Q(x,y) &=& \\frac{1}{2} \\left[ \\begin{matrix} x & y \\end{matrix} \\right] \\left[ \\begin{matrix} 2 & -1 \\\\ -1 & 2 \\end{matrix} \\right]\\left[ \\begin{matrix} x \\\\ y \\end{matrix} \\right] - \\left[ \\begin{matrix} -3 & 2 \\end{matrix} \\right] \\left[ \\begin{matrix} x \\\\ y \\end{matrix} \\right] + 4 \\end{eqnarray*}$$ \n",
    "\n",
    "$$\\begin{eqnarray*} y &\\geq& 2 - x \\\\ y &\\geq& -2 + x \\\\ y &\\leq& 3 \\end{eqnarray*}$$ "
   ]
  },
  {
   "cell_type": "markdown",
   "metadata": {
    "collapsed": true
   },
   "source": [
    "We can therefore ignore all constant terms in the quadratic form $Q(x,y)$\n",
    "\n",
    "$$D =  \\left[ \\begin{matrix} 2 & -1 \\\\ -1 & 2 \\end{matrix} \\right] \\qquad  d = \\left[ \\begin{matrix} -3 \\\\ 2 \\end{matrix} \\right]. $$\n",
    "\n",
    "The following equation can be used to set the constraint\n",
    "\n",
    "$$\\left[ \\begin{matrix} 1 & 1 \\\\ -1 & 1 \\\\ 0 & -1 \\end{matrix} \\right] \\left[ \\begin{matrix} x \\\\ y \\end{matrix} \\right] \\geq \\left[ \\begin{matrix} 2 \\\\ -2 \\\\ -3 \\end{matrix} \\right]$$ \n",
    "\n",
    "$$A = \\left[ \\begin{matrix} 1 & 1 \\\\ -1 & 1 \\\\ 0 & -1 \\end{matrix} \\right]^T \\qquad b = \\left[ \\begin{matrix} 2 \\\\ -2 \\\\ -3 \\end{matrix} \\right].$$ "
   ]
  },
  {
   "cell_type": "code",
   "execution_count": 1,
   "metadata": {},
   "outputs": [
    {
     "data": {
      "text/plain": [
       "{ solution: [ 0.16666666666666652, 1.8333333333333335 ],\n",
       "  value: [ -0.08333333333333348 ],\n",
       "  unconstrained_solution: [ -1.333333333333333, 0.33333333333333354 ],\n",
       "  iterations: [ 2, 0 ],\n",
       "  iact: [ 1, 0, 0 ],\n",
       "  message: '' }"
      ]
     },
     "execution_count": 1,
     "metadata": {},
     "output_type": "execute_result"
    }
   ],
   "source": [
    "var Dmat = [\n",
    "    [2, -1],\n",
    "    [-1, 2]\n",
    "];\n",
    "var dvec = [-3, 2];\n",
    "var Amat = [\n",
    "    [1, 1],\n",
    "    [-1, 1],\n",
    "    [0, -1]\n",
    "];\n",
    "Amat = numeric.transpose(Amat);\n",
    "var bvec = [2, -2, -3]\n",
    "numeric.solveQP(Dmat, dvec, Amat, bvec, meq=0)"
   ]
  },
  {
   "cell_type": "markdown",
   "metadata": {
    "collapsed": true
   },
   "source": [
    "## Numericjs example\n",
    "http://www.numericjs.com/documentation.html"
   ]
  },
  {
   "cell_type": "code",
   "execution_count": 2,
   "metadata": {},
   "outputs": [
    {
     "data": {
      "text/plain": [
       "{ solution: [ 0.47619047619047616, 1.0476190476190477, 2.0952380952380953 ],\n",
       "  value: [ -2.380952380952381 ],\n",
       "  unconstrained_solution: [ 0, 5, 0 ],\n",
       "  iterations: [ 3, 0 ],\n",
       "  iact: [ 3, 2, 0 ],\n",
       "  message: '' }"
      ]
     },
     "execution_count": 2,
     "metadata": {},
     "output_type": "execute_result"
    }
   ],
   "source": [
    "numeric.solveQP(\n",
    "    [\n",
    "        [1,0,0],\n",
    "        [0,1,0],\n",
    "        [0,0,1]\n",
    "    ],\n",
    "    [0,5,0],\n",
    "    [\n",
    "        [-4,2,0],\n",
    "        [-3,1,-2],\n",
    "        [0,0,1]\n",
    "    ],\n",
    "    [-8,2,0])"
   ]
  },
  {
   "cell_type": "code",
   "execution_count": null,
   "metadata": {
    "collapsed": true
   },
   "outputs": [],
   "source": []
  }
 ],
 "metadata": {
  "kernelspec": {
   "display_name": "Javascript (Node.js)",
   "language": "javascript",
   "name": "javascript"
  },
  "language_info": {
   "file_extension": ".js",
   "mimetype": "application/javascript",
   "name": "javascript",
   "version": "4.2.2"
  }
 },
 "nbformat": 4,
 "nbformat_minor": 2
}
