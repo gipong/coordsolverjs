{
 "cells": [
  {
   "cell_type": "markdown",
   "metadata": {},
   "source": [
    "# Solving Quadratic Programs in JavaScript"
   ]
  },
  {
   "cell_type": "markdown",
   "metadata": {
    "collapsed": true
   },
   "source": [
    "## Objective function or cost function\n",
    "$x$ is a vector in $\\mathbb{R}^n$,\n",
    "\n",
    "$D$ is an $n \\times n$ symmetric positive definite matrix,\n",
    "\n",
    "$d$ is a constant vector in $\\mathbb{R}^n$ \n",
    "\n",
    "and $c$ is a scalar constant\n",
    "$$ Q(x) = \\frac{1}{2} x^T D x - d^T x + c.$$"
   ]
  },
  {
   "cell_type": "markdown",
   "metadata": {
    "collapsed": true
   },
   "source": [
    "## Linear constraints\n",
    "Here $A$ is an $m_1 \\times n$ matrix with $m_1 \\leq n$ and $B$ is a $m_1 \\times n$ matrix\n",
    "$$ Ax \\geq B$$  "
   ]
  },
  {
   "cell_type": "markdown",
   "metadata": {},
   "source": [
    "## Model\n",
    "We can write the quadratic program (QP) compactly as:\n",
    "\n",
    "$$ \\left\\{ \\begin{array}{l} \\mathrm{minimize}_{x \\in \\mathbb{R}^n}: \\qquad Q(x) = \\frac{1}{2} x^T D x - d^T x + c \\\\ \\mathrm{subject\\; to:} \\qquad Ax \\geq b \\end{array} \\right.$$"
   ]
  },
  {
   "cell_type": "markdown",
   "metadata": {},
   "source": [
    "## Example\n",
    "Consider this problem we try to minimize\n",
    "\n",
    "$$ \\left\\{ \\begin{array}{l} \\mathrm{minimize}_{x \\in \\mathbb{R}^n}: \\qquad Q(x,y) = x^2 + y^2 - xy +3x -2y + 4 \\\\ \\mathrm{subject \\; to:} \\qquad y \\geq 2-x  \\quad, y \\geq -2+x \\quad, y \\leq 3 \\end{array} \\right.$$"
   ]
  },
  {
   "cell_type": "markdown",
   "metadata": {},
   "source": [
    "Before using the numeric package, We need to set correct matrix form our objective function \n",
    "\n",
    "$$ \\begin{eqnarray*} Q(x,y) = \\frac{1}{2} \\left[ \\begin{matrix} x & y \\end{matrix} \\right] \\left[ \\begin{matrix} 2 & -1 \\\\ -1 & 2 \\end{matrix} \\right]\\left[ \\begin{matrix} x \\\\ y \\end{matrix} \\right] - \\left[ \\begin{matrix} -3 & 2 \\end{matrix} \\right] \\left[ \\begin{matrix} x \\\\ y \\end{matrix} \\right] + 4 \\end{eqnarray*}$$ \n",
    "\n",
    "$$\\begin{eqnarray*} y &\\geq& 2 - x \\\\ y &\\geq& -2 + x \\\\ y &\\leq& 3 \\end{eqnarray*}$$ "
   ]
  },
  {
   "cell_type": "markdown",
   "metadata": {
    "collapsed": true
   },
   "source": [
    "We can therefore ignore all constant terms in the quadratic form $Q(x,y)$\n",
    "\n",
    "$$D =  \\left[ \\begin{matrix} 2 & -1 \\\\ -1 & 2 \\end{matrix} \\right] \\qquad  d = \\left[ \\begin{matrix} -3 \\\\ 2 \\end{matrix} \\right]. $$\n",
    "\n",
    "The following equation can be used to set the constraint\n",
    "\n",
    "$$\\left[ \\begin{matrix} 1 & 1 \\\\ -1 & 1 \\\\ 0 & -1 \\end{matrix} \\right] \\left[ \\begin{matrix} x \\\\ y \\end{matrix} \\right] \\geq \\left[ \\begin{matrix} 2 \\\\ -2 \\\\ -3 \\end{matrix} \\right]$$ \n",
    "\n",
    "$$A = \\left[ \\begin{matrix} 1 & 1 \\\\ -1 & 1 \\\\ 0 & -1 \\end{matrix} \\right]^T \\qquad b = \\left[ \\begin{matrix} 2 \\\\ -2 \\\\ -3 \\end{matrix} \\right].$$ "
   ]
  },
  {
   "cell_type": "code",
   "execution_count": 1,
   "metadata": {},
   "outputs": [
    {
     "data": {
      "text/plain": [
       "{ solution: [ 0, 3 ],\n",
       "  value: [ 2.9999999999999982 ],\n",
       "  unconstrained_solution: [ -1.333333333333333, 0.33333333333333354 ],\n",
       "  iterations: [ 2, 0 ],\n",
       "  iact: [ 4, 0, 0, 0 ],\n",
       "  message: '' }"
      ]
     },
     "execution_count": 1,
     "metadata": {},
     "output_type": "execute_result"
    }
   ],
   "source": [
    "var Dmat = [\n",
    "    [2, -1],\n",
    "    [-1, 2]\n",
    "];\n",
    "var dvec = [-3, 2];\n",
    "var Amat = [\n",
    "    [1, 1],\n",
    "    [-1, 1],\n",
    "    [0, -1],\n",
    "    [0, 1]\n",
    "];\n",
    "Amat = numeric.transpose(Amat);\n",
    "var bvec = [2, -2, -3, 3]\n",
    "numeric.solveQP(Dmat, dvec, Amat, bvec, meq=0)"
   ]
  },
  {
   "cell_type": "markdown",
   "metadata": {
    "collapsed": true
   },
   "source": [
    "## Numericjs example\n",
    "http://www.numericjs.com/documentation.html"
   ]
  },
  {
   "cell_type": "code",
   "execution_count": 2,
   "metadata": {},
   "outputs": [
    {
     "data": {
      "text/plain": [
       "[ 0, 1.5 ]"
      ]
     },
     "execution_count": 2,
     "metadata": {},
     "output_type": "execute_result"
    }
   ],
   "source": [
    "x = numeric.solveLP(\n",
    "    [1,1],\n",
    "    [\n",
    "        [-1,0],\n",
    "        [0,-1],\n",
    "        [-1,-2]\n",
    "    ],\n",
    "    [0,0,-3]);\n",
    "numeric.trunc(x.solution, 1e-12);"
   ]
  },
  {
   "cell_type": "code",
   "execution_count": 3,
   "metadata": {},
   "outputs": [
    {
     "data": {
      "text/plain": [
       "{ solution: [ 0.47619047619047616, 1.0476190476190477, 2.0952380952380953 ],\n",
       "  value: [ -2.380952380952381 ],\n",
       "  unconstrained_solution: [ 0, 5, 0 ],\n",
       "  iterations: [ 3, 0 ],\n",
       "  iact: [ 3, 2, 0 ],\n",
       "  message: '' }"
      ]
     },
     "execution_count": 3,
     "metadata": {},
     "output_type": "execute_result"
    }
   ],
   "source": [
    "numeric.solveQP(\n",
    "    [\n",
    "        [1,0,0],\n",
    "        [0,1,0],\n",
    "        [0,0,1]\n",
    "    ],\n",
    "    [0,5,0],\n",
    "    [\n",
    "        [-4,2,0],\n",
    "        [-3,1,-2],\n",
    "        [0,0,1]\n",
    "    ],\n",
    "    [-8,2,0])"
   ]
  },
  {
   "cell_type": "markdown",
   "metadata": {},
   "source": [
    "## Coordsolverjs usage"
   ]
  },
  {
   "cell_type": "code",
   "execution_count": 4,
   "metadata": {
    "collapsed": true
   },
   "outputs": [],
   "source": [
    "// return an array of decision variables, D matrix and d vector\n",
    "var _mat = Coordsolver.setVarNumber(5)\n",
    "var _Amat = []\n",
    "var _bvec = []\n",
    "\n",
    "// consider your objective function like the following equation"
   ]
  },
  {
   "cell_type": "markdown",
   "metadata": {},
   "source": [
    "$$\\sum_{i=1}^{5} (x_{i}-5)^{2}$$"
   ]
  },
  {
   "cell_type": "code",
   "execution_count": 5,
   "metadata": {},
   "outputs": [
    {
     "data": {
      "text/plain": [
       "[ 0, 0, 0, 0, '1' ]"
      ]
     },
     "execution_count": 5,
     "metadata": {},
     "output_type": "execute_result"
    }
   ],
   "source": [
    "// you can set these constraint like this \n",
    "// parameters : D matrix, d vector, equation, weight of equation(default is 1)\n",
    "for(var i=0; i<5; i++) {\n",
    "    Coordsolver.addSoftConstraint(_mat[1], _mat[2], `vars[${i}]-5`, 1);\n",
    "}"
   ]
  },
  {
   "cell_type": "markdown",
   "metadata": {},
   "source": [
    "$$x_{i} \\geq 0 $$"
   ]
  },
  {
   "cell_type": "code",
   "execution_count": 6,
   "metadata": {},
   "outputs": [
    {
     "data": {
      "text/plain": [
       "{ solution: [ 5, 5, 5, 5, 5 ],\n",
       "  value: [ -62.5 ],\n",
       "  unconstrained_solution: [ 5, 5, 5, 5, 5 ],\n",
       "  iterations: [ 1, 0 ],\n",
       "  iact: [ 0, 0, 0, 0, 0 ],\n",
       "  message: '' }"
      ]
     },
     "execution_count": 6,
     "metadata": {},
     "output_type": "execute_result"
    }
   ],
   "source": [
    "// setting your line constraint\n",
    "// parameters : A matrix, b vector, D matrix, equation, weight of equation(default is 1)\n",
    "for(var i=0; i<5; i++) {\n",
    "    Coordsolver.addHardConstraint(_Amat, _bvec, _mat[1], `vars[${i}]>0`, 1);\n",
    "}\n",
    "_Amat = numeric.transpose(_Amat);\n",
    "\n",
    "// get the result\n",
    "numeric.solveQP(_mat[1], _mat[2], _Amat, _bvec)"
   ]
  },
  {
   "cell_type": "code",
   "execution_count": 7,
   "metadata": {},
   "outputs": [
    {
     "name": "stdout",
     "output_type": "stream",
     "text": [
      "[ '1', 0, 0, 0, 0 ]\n",
      "[ 0, '1', 0, 0, 0 ]\n",
      "[ 0, 0, '1', 0, 0 ]\n",
      "[ 0, 0, 0, '1', 0 ]\n",
      "[ 0, 0, 0, 0, '1' ]\n"
     ]
    }
   ],
   "source": [
    "// check your matrix\n",
    "Coordsolver.printArray(_Amat)"
   ]
  },
  {
   "cell_type": "markdown",
   "metadata": {},
   "source": [
    "## Knapsack problem\n",
    "We consider a knapsack problem where we have 10 different items which have it's own weight and value.\n",
    "\n",
    "| item | value | weight |\n",
    "|------|-------|--------|\n",
    "| a    | 10    | 8      |\n",
    "| b    | 6     | 5      |\n",
    "| c    | 1     | 3      |\n",
    "| d    | 3     | 5      |\n",
    "| e    | 8     | 4      |\n",
    "| f    | 9     | 7      |\n",
    "| g    | 3     | 4      |\n",
    "| h    | 7     | 4      |\n",
    "| i    | 2     | 5      |\n",
    "| j    | 8     | 6      |\n",
    "\n",
    "\n",
    "$$ K=35 , weightLimit$$\n",
    "\n",
    "$$ \\left\\{ \\begin{array}{l} \\mathrm{maximize}_{x \\in \\mathbb{R}^n}: \\qquad f = \\sum_{i=1}^{n} p_{i}x_{i} \\\\ \\mathrm{subject\\; to:} \\qquad \\sum_{i=1}^{n} w_{i}x_{i} \\leq K \\end{array} \\right.$$"
   ]
  },
  {
   "cell_type": "code",
   "execution_count": 8,
   "metadata": {
    "collapsed": true
   },
   "outputs": [],
   "source": [
    "// add your code here"
   ]
  },
  {
   "cell_type": "markdown",
   "metadata": {},
   "source": [
    "## Mesh distortion"
   ]
  },
  {
   "cell_type": "code",
   "execution_count": 9,
   "metadata": {},
   "outputs": [
    {
     "name": "stdout",
     "output_type": "stream",
     "text": [
      "[ [ 1, 1 ], [ 2, 1 ], [ 2, 2 ], [ 1, 2 ] ]\n"
     ]
    }
   ],
   "source": [
    "var face = [];\n",
    "var offset = { x: 1, y: 1 };\n",
    "var grid = {\n",
    "    r: 5, c: 5, w: 1\n",
    "};\n",
    "\n",
    "for(var i=0; i<grid.r*grid.c; i++) {\n",
    "    face[i] = [];\n",
    "    var anchor = {\n",
    "        x: i%grid.c + offset.x,\n",
    "        y: Math.floor(i/grid.c) + offset.y\n",
    "    }\n",
    "    face[i].push(\n",
    "        [anchor.x, anchor.y],\n",
    "        [anchor.x + grid.w, anchor.y],\n",
    "        [anchor.x + grid.w, anchor.y + grid.w],\n",
    "        [anchor.x, anchor.y + grid.w]\n",
    "    )\n",
    "}\n",
    "\n",
    "console.log(face[0])"
   ]
  },
  {
   "cell_type": "code",
   "execution_count": 10,
   "metadata": {
    "collapsed": true
   },
   "outputs": [],
   "source": [
    "// add your code here"
   ]
  },
  {
   "cell_type": "code",
   "execution_count": null,
   "metadata": {
    "collapsed": true
   },
   "outputs": [],
   "source": []
  }
 ],
 "metadata": {
  "kernelspec": {
   "display_name": "Javascript (Node.js)",
   "language": "javascript",
   "name": "javascript"
  },
  "language_info": {
   "file_extension": ".js",
   "mimetype": "application/javascript",
   "name": "javascript",
   "version": "4.2.2"
  }
 },
 "nbformat": 4,
 "nbformat_minor": 2
}
